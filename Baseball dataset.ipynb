{
  "metadata": {
    "language_info": {
      "codemirror_mode": {
        "name": "python",
        "version": 3
      },
      "file_extension": ".py",
      "mimetype": "text/x-python",
      "name": "python",
      "nbconvert_exporter": "python",
      "pygments_lexer": "ipython3",
      "version": "3.8"
    },
    "kernelspec": {
      "name": "python",
      "display_name": "Python (Pyodide)",
      "language": "python"
    }
  },
  "nbformat_minor": 4,
  "nbformat": 4,
  "cells": [
    {
      "cell_type": "markdown",
      "source": "#import libraries\n\ndata = pd.read_csv(\"C:\\\\Users\\\\jsury\\\\Downloads\\\\baseballdatabank-2022.2\\\\baseballdatabank-2022.2\\\\contrib\\\\Salaries.csv\")\n\n# Sort the dataset by salary in descending order\ndata.sort_values(by='salary', ascending=False, inplace=True)\n\n# Choose the top N players\nN = 10  # Change this value to the desired number of players\ntop_players = data.head(N)\n\n# Define the characteristics to analyze\ncharacteristics = ['Age', 'BattingAverage', 'HomeRuns', 'RBIs']\n\n# Create a new DataFrame with only the top players and selected characteristics\ntop_players_characteristics = top_players[characteristics]\n\n# Plot the characteristics for the top players\nplt.figure(figsize=(12, 6))\nfor characteristic in characteristics:\n    plt.bar(top_players['Player'], top_players_characteristics[characteristic], label=characteristic)\n\nplt.xlabel('Player')\nplt.ylabel('Value')\nplt.title(f'Top {N} Highest-Paid Baseball Players and Their Characteristics')\nplt.xticks(rotation=45, ha='right')\nplt.legend()\nplt.tight_layout()\nplt.show()\n",
      "metadata": {}
    },
    {
      "cell_type": "code",
      "source": "import pandas as pd\nimport matplotlib.pyplot as plt",
      "metadata": {},
      "execution_count": null,
      "outputs": []
    },
    {
      "cell_type": "code",
      "source": "",
      "metadata": {},
      "execution_count": null,
      "outputs": []
    }
  ]
}