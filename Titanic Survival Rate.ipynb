{
  "metadata": {
    "language_info": {
      "codemirror_mode": {
        "name": "python",
        "version": 3
      },
      "file_extension": ".py",
      "mimetype": "text/x-python",
      "name": "python",
      "nbconvert_exporter": "python",
      "pygments_lexer": "ipython3",
      "version": "3.8"
    },
    "kernelspec": {
      "name": "python",
      "display_name": "Python (Pyodide)",
      "language": "python"
    }
  },
  "nbformat_minor": 4,
  "nbformat": 4,
  "cells": [
    {
      "cell_type": "markdown",
      "source": "we import matplotlib and seaborn for data visualization.\nContains demographics and passenger information from 891 of the 2224 passengers and crew on board the Titanic. \nYou can view a description of this dataset on the Kaggle website, where the data was obtained.",
      "metadata": {}
    },
    {
      "cell_type": "code",
      "source": "\nimport matplotlib.pyplot as plt\nimport pandas as pd\nimport seaborn as sns\ndf=pd.read_csv(\"C:\\\\Users\\\\jsury\\\\Downloads\\\\titanic_data.csv\")\ndf.hist(figsize=(15,15))\nplt.show()\nprint(df.head())\n\nsns.set_style(\"whitegrid\")\nsns.barplot(x=\"Sex\", y=\"Survived\", data=df, palette=\"Set1\")\nplt.title(\"Survival Rate by Gender\")\nplt.show()\n\n",
      "metadata": {},
      "execution_count": null,
      "outputs": []
    }
  ]
}